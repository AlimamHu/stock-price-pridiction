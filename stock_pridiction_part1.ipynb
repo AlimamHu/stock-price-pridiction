{
  "nbformat": 4,
  "nbformat_minor": 0,
  "metadata": {
    "colab": {
      "name": "stock pridiction.ipynb",
      "provenance": [],
      "authorship_tag": "ABX9TyO53iv8G1hYgUT+Xi8AOLDa",
      "include_colab_link": true
    },
    "kernelspec": {
      "name": "python3",
      "display_name": "Python 3"
    },
    "language_info": {
      "name": "python"
    }
  },
  "cells": [
    {
      "cell_type": "markdown",
      "metadata": {
        "id": "view-in-github",
        "colab_type": "text"
      },
      "source": [
        "<a href=\"https://colab.research.google.com/github/AlimamHu/stock-price-pridiction/blob/main/stock_pridiction_part1.ipynb\" target=\"_parent\"><img src=\"https://colab.research.google.com/assets/colab-badge.svg\" alt=\"Open In Colab\"/></a>"
      ]
    },
    {
      "cell_type": "code",
      "execution_count": 1,
      "metadata": {
        "colab": {
          "base_uri": "https://localhost:8080/"
        },
        "id": "jfp7yjB6lHWW",
        "outputId": "6f90418d-90a7-4cb1-b1bc-ac4942c05ee9"
      },
      "outputs": [
        {
          "output_type": "stream",
          "name": "stdout",
          "text": [
            "song\n"
          ]
        }
      ],
      "source": [
        "print(\"song\")"
      ]
    },
    {
      "cell_type": "code",
      "source": [
        ""
      ],
      "metadata": {
        "id": "WSWiv9Hdlbcf"
      },
      "execution_count": null,
      "outputs": []
    }
  ]
}